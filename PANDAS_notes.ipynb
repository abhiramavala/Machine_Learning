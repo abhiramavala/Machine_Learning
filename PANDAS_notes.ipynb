{
 "cells": [
  {
   "cell_type": "markdown",
   "source": [
    "# PANDAS"
   ],
   "metadata": {}
  },
  {
   "cell_type": "code",
   "execution_count": null,
   "source": [
    "import pandas as pd\r\n",
    "import numpy as np\r\n",
    "import matplotlib.pyplot as plt"
   ],
   "outputs": [],
   "metadata": {}
  },
  {
   "cell_type": "markdown",
   "source": [
    "# Creating Dataframe"
   ],
   "metadata": {}
  },
  {
   "cell_type": "code",
   "execution_count": null,
   "source": [
    "df = pd.read_csv(\"marks.csv\")\r\n",
    "df"
   ],
   "outputs": [],
   "metadata": {}
  },
  {
   "cell_type": "markdown",
   "source": [
    "# Functions"
   ],
   "metadata": {}
  },
  {
   "cell_type": "markdown",
   "source": [
    "## 1. df = pd.read_csv('abc_csv') and df = pd.read_excel('abc.xlsx')\r\n",
    "### To read a csv file and an excel file\r\n",
    "## 2. df.shape \r\n",
    "### Gives the order of the matrix i.e., no. of rows and columns\r\n",
    "## 3. df.columns \r\n",
    "### Give all the columns\r\n",
    "## 4. df.head() and df.tail() \r\n",
    "### Gives the firts 5 rows and first 5 columns\r\n",
    "## 5. df[a:b] \r\n",
    "### Gives (a)th row to (b-1)th row \r\n",
    "## 6. df['column_name'] \r\n",
    "### Gives that whole column\r\n",
    "## 7. df.column_name \r\n",
    "### Gives that whole column\r\n",
    "## 8. df.[['column_a','column_b','column_c']] \r\n",
    "### Gives columns a,b and c\r\n",
    "## 9. df.column_name.max() , df.column_name.min() , df.column_name.mean(), df.column_name.std() , df.column_name.describe()\r\n",
    "### Gives the data where the column has its max, min. And gives the Mean, Standard Deviation and Stat of that column\r\n",
    "## 10. df[df.column_a >= x] , df[df.column_a == df.column_a.max()] , etc \r\n",
    "### Gives data where column_a has its maximum\r\n",
    "## 11. df['column_a'][df.column_b == df.column_b.max()] \r\n",
    "### Gives column_a where column_b is maximum\r\n",
    "## 12. df.set_index('column_a') , df.set_index('column_a' , inplace=True) \r\n",
    "### Sets column_a as the index instead of 0,1,2,3,...\r\n",
    "## 13. df.loc['row_a'] \r\n",
    "### Gives the row_a. This can be done only when index is set to some column instead of 0,1,2,3,...\r\n",
    "## 14. df.reset_index(inplace=True) \r\n",
    "### Resets the index to 0,1,2,3,...\r\n",
    "## 15. df = pd.read_csv(\"abc.csv\", skiprows=n) or df = pd.read_csv(\"abc.csv\", header=n) \r\n",
    "### skips 1st n rows\r\n",
    "## 16. df = pd.read_csv('abc.csv', header=None, names=['a','b','c']) \r\n",
    "### if we haven't mentioned column names in the csv file\r\n",
    "## 17. df = pd.read_csv(\"abc.csv\", nrows=n) \r\n",
    "### Reads only first n rows excluding the header\r\n",
    "## 18. df = pd.read_csv('abc_csv', na_values=[a,b,c])\r\n",
    "### The values a,b,c in the data changes to \"NaN\"\r\n",
    "## 19. df = pd.read_csv('abc_csv', na_values={ 'column_a' : [a,b,c] , 'column_b' : [x,y,z] })\r\n",
    "### To make different values as NaN in different columns.\r\n",
    "## 20. df.to_csv('xyz.csv') and df.to_csv('xyz.csv', index=Flase)\r\n",
    "### To create another csv file with same data  AND  not to get the data along with index.\r\n",
    "## 21. df.to_csv('xyz.csv', columns=['column_a','column_b'])\r\n",
    "### To create another csv file with same data but only some coulmns\r\n",
    "## 22. def convert_elements(element):\r\n",
    "##         if element == 'not available':\r\n",
    "##             return '0'\r\n",
    "##         else:\r\n",
    "##             return element\r\n",
    "##     df = pd.read_csv('abc.csv', converters={ 'column_a' : convert_elements , 'column_b' : covert_elements })\r\n",
    "### For example, to change the 'not available' values to '0', we define a function to change the values and then while reading the csv file, we use \"converters={'column_a' : convert_elements , 'column_b' : covert_elements} to convert the 'not available' values to '0' in column_a and column_b\r\n",
    "## 23. df.to_excel('xyz.xlsx', startrow=a, startcol=b)\r\n",
    "### To create an excel file with same data in df and the data starts at (a)th row and (b)th column"
   ],
   "metadata": {}
  },
  {
   "cell_type": "code",
   "execution_count": null,
   "source": [
    "df.shape"
   ],
   "outputs": [],
   "metadata": {}
  },
  {
   "cell_type": "code",
   "execution_count": null,
   "source": [
    "rows,columns = df.shape\r\n",
    "rows"
   ],
   "outputs": [],
   "metadata": {}
  },
  {
   "cell_type": "code",
   "execution_count": null,
   "source": [
    "columns"
   ],
   "outputs": [],
   "metadata": {}
  },
  {
   "cell_type": "code",
   "execution_count": null,
   "source": [
    "df.head()"
   ],
   "outputs": [],
   "metadata": {}
  },
  {
   "cell_type": "code",
   "execution_count": null,
   "source": [
    "df.tail()"
   ],
   "outputs": [],
   "metadata": {}
  },
  {
   "cell_type": "code",
   "execution_count": null,
   "source": [
    "df.head(3)"
   ],
   "outputs": [],
   "metadata": {}
  },
  {
   "cell_type": "code",
   "execution_count": null,
   "source": [
    "df[2:6]"
   ],
   "outputs": [],
   "metadata": {}
  },
  {
   "cell_type": "code",
   "execution_count": null,
   "source": [
    "df.columns"
   ],
   "outputs": [],
   "metadata": {}
  },
  {
   "cell_type": "code",
   "execution_count": null,
   "source": [
    "df.exam"
   ],
   "outputs": [],
   "metadata": {}
  },
  {
   "cell_type": "code",
   "execution_count": null,
   "source": [
    "df.coms"
   ],
   "outputs": [],
   "metadata": {}
  },
  {
   "cell_type": "code",
   "execution_count": null,
   "source": [
    "df[['exam','math']]"
   ],
   "outputs": [],
   "metadata": {}
  },
  {
   "cell_type": "code",
   "execution_count": null,
   "source": [
    "df['stat']"
   ],
   "outputs": [],
   "metadata": {}
  },
  {
   "cell_type": "code",
   "execution_count": null,
   "source": [
    "df['stat'].max()"
   ],
   "outputs": [],
   "metadata": {}
  },
  {
   "cell_type": "code",
   "execution_count": null,
   "source": [
    "df['math'].mean()"
   ],
   "outputs": [],
   "metadata": {}
  },
  {
   "cell_type": "code",
   "execution_count": null,
   "source": [
    "df['math'].std()"
   ],
   "outputs": [],
   "metadata": {}
  },
  {
   "cell_type": "code",
   "execution_count": null,
   "source": [
    "df['math'].describe()"
   ],
   "outputs": [],
   "metadata": {}
  },
  {
   "cell_type": "markdown",
   "source": [
    "# Conditional Selection of Data"
   ],
   "metadata": {}
  },
  {
   "cell_type": "code",
   "execution_count": null,
   "source": [
    "df[df.stat>=30]"
   ],
   "outputs": [],
   "metadata": {}
  },
  {
   "cell_type": "code",
   "execution_count": null,
   "source": [
    "df[df.stat==32]"
   ],
   "outputs": [],
   "metadata": {}
  },
  {
   "cell_type": "code",
   "execution_count": null,
   "source": [
    "df[df.stat==df.stat.max()]"
   ],
   "outputs": [],
   "metadata": {}
  },
  {
   "cell_type": "code",
   "execution_count": null,
   "source": [
    "df[df.stat==df['stat'].max()]"
   ],
   "outputs": [],
   "metadata": {}
  },
  {
   "cell_type": "code",
   "execution_count": null,
   "source": [
    "df[['exam','date']][df.stat==df['stat'].max()]"
   ],
   "outputs": [],
   "metadata": {}
  },
  {
   "cell_type": "code",
   "execution_count": null,
   "source": [
    "df"
   ],
   "outputs": [],
   "metadata": {}
  },
  {
   "cell_type": "code",
   "execution_count": null,
   "source": [
    "df"
   ],
   "outputs": [],
   "metadata": {}
  },
  {
   "cell_type": "code",
   "execution_count": null,
   "source": [
    "df.set_index('date', inplace=True)\r\n",
    "df"
   ],
   "outputs": [],
   "metadata": {}
  },
  {
   "cell_type": "code",
   "execution_count": null,
   "source": [
    "df.loc['2/1/21']"
   ],
   "outputs": [],
   "metadata": {}
  },
  {
   "cell_type": "code",
   "execution_count": null,
   "source": [
    "df.reset_index(inplace=True)\r\n",
    "df"
   ],
   "outputs": [],
   "metadata": {}
  },
  {
   "cell_type": "code",
   "execution_count": null,
   "source": [
    "df.set_index('stat',inplace=True)\r\n",
    "df"
   ],
   "outputs": [],
   "metadata": {}
  },
  {
   "cell_type": "code",
   "execution_count": null,
   "source": [
    "df.loc[35]"
   ],
   "outputs": [],
   "metadata": {}
  },
  {
   "cell_type": "code",
   "execution_count": null,
   "source": [
    "df.reset_index(inplace=True)\r\n",
    "df"
   ],
   "outputs": [],
   "metadata": {}
  },
  {
   "cell_type": "code",
   "execution_count": null,
   "source": [
    "marks_data = {\r\n",
    "    'date':['1/1/21','2/1/21','3/1/21','4/1/21'],\r\n",
    "    'exam':['internal1','internal2','internal3','internal4'],\r\n",
    "    'stat':[23,40,32,35],\r\n",
    "    'math':[31,32,12,27],\r\n",
    "    'coms':[11,21,34,22]\r\n",
    "}\r\n",
    "df2 = pd.DataFrame(marks_data)\r\n",
    "df2"
   ],
   "outputs": [],
   "metadata": {}
  },
  {
   "cell_type": "code",
   "execution_count": null,
   "source": [
    "marks = [\r\n",
    "    ('1/1/21','internal1',23,31,11),\r\n",
    "    ('2/1/21','internal2',23,31,11),\r\n",
    "    ('3/1/21','internal3',23,31,11),\r\n",
    "    ('4/1/21','internal4',23,31,11)\r\n",
    "]\r\n",
    "df3 = pd.DataFrame(marks , columns = ['date','exam','stat','math','coms'])\r\n",
    "df3"
   ],
   "outputs": [],
   "metadata": {}
  },
  {
   "cell_type": "code",
   "execution_count": null,
   "source": [
    "df3[df3.stat==23]"
   ],
   "outputs": [],
   "metadata": {}
  },
  {
   "cell_type": "code",
   "execution_count": null,
   "source": [
    "mark = [\r\n",
    "    {'date':'1/1/21', 'exam':'internal1', 'stat':40, 'math':32},\r\n",
    "    {'date':'2/1/21', 'exam':'internal2', 'stat':40, 'math':32},\r\n",
    "    {'date':'3/1/21', 'exam':'internal3', 'stat':40, 'math':32},\r\n",
    "    {'date':'4/1/21', 'exam':'internal4', 'stat':40, 'math':32}\r\n",
    "]\r\n",
    "df4 = pd.DataFrame(mark)\r\n",
    "df4"
   ],
   "outputs": [],
   "metadata": {}
  },
  {
   "cell_type": "code",
   "execution_count": null,
   "source": [
    "df = pd.read_csv(\"marks.csv\", skiprows=1)\r\n",
    "df"
   ],
   "outputs": [],
   "metadata": {}
  },
  {
   "cell_type": "code",
   "execution_count": null,
   "source": [
    "df = pd.read_csv(\"marks.csv\", skiprows=4)\r\n",
    "df"
   ],
   "outputs": [],
   "metadata": {}
  },
  {
   "cell_type": "code",
   "execution_count": null,
   "source": [
    "df = pd.read_csv(\"marks.csv\", header=4)\r\n",
    "df"
   ],
   "outputs": [],
   "metadata": {}
  },
  {
   "cell_type": "code",
   "execution_count": null,
   "source": [
    "df5 = pd.read_csv('marks2.csv')\r\n",
    "df5"
   ],
   "outputs": [],
   "metadata": {}
  },
  {
   "cell_type": "code",
   "execution_count": null,
   "source": [
    "df5 = pd.read_csv('marks2.csv', header=None, names=['date','exam','stat','math','coms'])\r\n",
    "df5"
   ],
   "outputs": [],
   "metadata": {}
  },
  {
   "cell_type": "code",
   "execution_count": null,
   "source": [
    "df = pd.read_csv(\"marks.csv\", nrows=4)\r\n",
    "df"
   ],
   "outputs": [],
   "metadata": {}
  },
  {
   "cell_type": "code",
   "execution_count": null,
   "source": [
    "df = pd.read_csv('marks.csv')\r\n",
    "df"
   ],
   "outputs": [],
   "metadata": {}
  },
  {
   "cell_type": "code",
   "execution_count": null,
   "source": [
    "df6 = pd.read_csv('marks3.csv')\r\n",
    "df6"
   ],
   "outputs": [],
   "metadata": {}
  },
  {
   "cell_type": "code",
   "execution_count": null,
   "source": [
    "df6 = pd.read_csv('marks3.csv', na_values=['not available','n.a'])\r\n",
    "df6"
   ],
   "outputs": [],
   "metadata": {}
  },
  {
   "cell_type": "code",
   "execution_count": null,
   "source": [
    "df6.to_csv('new.csv')"
   ],
   "outputs": [],
   "metadata": {}
  },
  {
   "cell_type": "code",
   "execution_count": null,
   "source": [
    "df6.to_csv('new1.csv',index=False)"
   ],
   "outputs": [],
   "metadata": {}
  },
  {
   "cell_type": "code",
   "execution_count": null,
   "source": [
    "df6.to_csv('new2.csv',columns=['exam','math'])"
   ],
   "outputs": [],
   "metadata": {}
  },
  {
   "cell_type": "code",
   "execution_count": null,
   "source": [
    "df6 = pd.read_csv('marks3.csv')\r\n",
    "df6"
   ],
   "outputs": [],
   "metadata": {}
  },
  {
   "cell_type": "code",
   "execution_count": null,
   "source": [
    "def convert_elements(element):\r\n",
    "    if element == 'not available' or element == 'n.a':\r\n",
    "        return '0'\r\n",
    "    else:\r\n",
    "        return element\r\n",
    "\r\n",
    "df7 = pd.read_csv('marks3.csv', converters={\r\n",
    "    'stat' : convert_elements,\r\n",
    "    'math' : convert_elements\r\n",
    "})\r\n",
    "df7"
   ],
   "outputs": [],
   "metadata": {}
  },
  {
   "cell_type": "code",
   "execution_count": null,
   "source": [
    "df7.to_excel('new3.xlsx', startrow=4, startcol=2)"
   ],
   "outputs": [],
   "metadata": {}
  }
 ],
 "metadata": {
  "orig_nbformat": 4,
  "language_info": {
   "name": "python",
   "version": "3.9.5",
   "mimetype": "text/x-python",
   "codemirror_mode": {
    "name": "ipython",
    "version": 3
   },
   "pygments_lexer": "ipython3",
   "nbconvert_exporter": "python",
   "file_extension": ".py"
  },
  "kernelspec": {
   "name": "python3",
   "display_name": "Python 3.9.5 64-bit"
  },
  "interpreter": {
   "hash": "57442588a452f7471b12dc220dde2c3e94431918f6c9d479f6ab8a2491daa9cd"
  }
 },
 "nbformat": 4,
 "nbformat_minor": 2
}