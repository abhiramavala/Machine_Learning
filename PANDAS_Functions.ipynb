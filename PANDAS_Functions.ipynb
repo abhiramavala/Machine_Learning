{
 "cells": [
  {
   "cell_type": "markdown",
   "source": [
    "# PANDAS FUNCTIONS"
   ],
   "metadata": {}
  },
  {
   "cell_type": "markdown",
   "source": [
    "## 1. df = pd.read_csv('abc_csv') and df = pd.read_excel('abc.xlsx')\r\n",
    "### To read a csv file and an excel file\r\n",
    "## 2. df.shape \r\n",
    "### Gives the order of the matrix i.e., no. of rows and columns\r\n",
    "## 3. df.columns \r\n",
    "### Give all the columns\r\n",
    "## 4. df.head() and df.tail() \r\n",
    "### Gives the firts 5 rows and first 5 columns\r\n",
    "## 5. df[a:b] \r\n",
    "### Gives (a)th row to (b-1)th row \r\n",
    "## 6. df['column_name'] \r\n",
    "### Gives that whole column\r\n",
    "## 7. df.column_name \r\n",
    "### Gives that whole column\r\n",
    "## 8. df.[['column_a','column_b','column_c']] \r\n",
    "### Gives columns a,b and c\r\n",
    "## 9. df.column_name.max() , df.column_name.min() , df.column_name.mean(), df.column_name.std() , df.column_name.describe()\r\n",
    "### Gives the data where the column has its max, min. And gives the Mean, Standard Deviation and Stat of that column\r\n",
    "## 10. df[df.column_a >= x] , df[df.column_a == df.column_a.max()] , etc \r\n",
    "### Gives data where column_a has its maximum\r\n",
    "## 11. df['column_a'][df.column_b == df.column_b.max()] \r\n",
    "### Gives column_a where column_b is maximum\r\n",
    "## 12. df.set_index('column_a') , df.set_index('column_a' , inplace=True) \r\n",
    "### Sets column_a as the index instead of 0,1,2,3,...\r\n",
    "## 13. df.loc['row_a'] \r\n",
    "### Gives the row_a. This can be done only when index is set to some column instead of 0,1,2,3,...\r\n",
    "## 14. df.reset_index(inplace=True) \r\n",
    "### Resets the index to 0,1,2,3,...\r\n",
    "## 15. df = pd.read_csv(\"abc.csv\", skiprows=n) or df = pd.read_csv(\"abc.csv\", header=n) \r\n",
    "### skips 1st n rows\r\n",
    "## 16. df = pd.read_csv('abc.csv', header=None, names=['a','b','c']) \r\n",
    "### if we haven't mentioned column names in the csv file\r\n",
    "## 17. df = pd.read_csv(\"abc.csv\", nrows=n) \r\n",
    "### Reads only first n rows excluding the header\r\n",
    "## 18. df = pd.read_csv('abc_csv', na_values=[a,b,c])\r\n",
    "### The values a,b,c in the data changes to \"NaN\"\r\n",
    "## 19. df = pd.read_csv('abc_csv', na_values={ 'column_a' : [a,b,c] , 'column_b' : [x,y,z] })\r\n",
    "### To make different values as NaN in different columns.\r\n",
    "## 20. df.to_csv('xyz.csv') and df.to_csv('xyz.csv', index=Flase)\r\n",
    "### To create another csv file with same data  AND  not to get the data along with index.\r\n",
    "## 21. df.to_csv('xyz.csv', columns=['column_a','column_b'])\r\n",
    "### To create another csv file with same data but only some coulmns\r\n",
    "## 22. def convert_elements(element):\r\n",
    "##         if element == 'not available':\r\n",
    "##             return '0'\r\n",
    "##         else:\r\n",
    "##             return element\r\n",
    "##     df = pd.read_csv('abc.csv', converters={ 'column_a' : convert_elements , 'column_b' : covert_elements })\r\n",
    "### For example, to change the 'not available' values to '0', we define a function to change the values and then while reading the csv file, we use \"converters={'column_a' : convert_elements , 'column_b' : covert_elements} to convert the 'not available' values to '0' in column_a and column_b\r\n",
    "## 23. df.to_excel('xyz.xlsx', startrow=a, startcol=b)\r\n",
    "### To create an excel file with same data in df and the data starts at (a)th row and (b)th column"
   ],
   "metadata": {}
  }
 ],
 "metadata": {
  "orig_nbformat": 4,
  "language_info": {
   "name": "python"
  }
 },
 "nbformat": 4,
 "nbformat_minor": 2
}