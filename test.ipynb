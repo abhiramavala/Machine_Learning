{
 "cells": [
  {
   "cell_type": "code",
   "execution_count": null,
   "source": [
    "143"
   ],
   "outputs": [],
   "metadata": {}
  }
 ],
 "metadata": {
  "orig_nbformat": 4,
  "language_info": {
   "name": "python",
   "version": "3.9.5"
  },
  "kernelspec": {
   "name": "python3",
   "display_name": "Python 3.9.5 64-bit"
  },
  "interpreter": {
   "hash": "57442588a452f7471b12dc220dde2c3e94431918f6c9d479f6ab8a2491daa9cd"
  }
 },
 "nbformat": 4,
 "nbformat_minor": 2
}